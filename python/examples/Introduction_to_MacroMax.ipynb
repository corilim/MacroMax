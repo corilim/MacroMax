{
  "nbformat": 4,
  "nbformat_minor": 0,
  "metadata": {
    "colab": {
      "provenance": [],
      "gpuType": "T4"
    },
    "kernelspec": {
      "name": "python3",
      "display_name": "Python 3"
    },
    "language_info": {
      "name": "python"
    },
    "accelerator": "GPU"
  },
  "cells": [
    {
      "cell_type": "markdown",
      "source": [
        "## Introduction to MacroMax\n",
        "\n",
        "This is a simple example of how to use our open-source electromagnetics solver, MacroMax.\n",
        "\n",
        "To take a full advatage of the available hardware on Google Colab, make sure to enable GPU in the setting of the notebook. In the menu bar above, select **Runtime > Change runtime type > Hardware accelerator > GPU**.[link text](https://)\n",
        "\n",
        "All source code and further examples are available on [GitHub](https://github.com/tttom/MacroMax). The latest documentation of the library can be found [here](https://macromax.readthedocs.io/en/latest/).\n",
        "\n",
        "Feel free contact me with questions or discussion at t.vettenburg@dundee.ac.uk.\n"
      ],
      "metadata": {
        "id": "9QJcTzzp05Xd"
      }
    },
    {
      "cell_type": "markdown",
      "source": [
        "## Install and load dependencies. Copy this at the start of your Colab script."
      ],
      "metadata": {
        "id": "3ZMFrpVKAJr5"
      }
    },
    {
      "cell_type": "code",
      "source": [
        "# Capture disables display of output for this cell.\n",
        "%%capture\n",
        "\n",
        "!pip install -U macromax  # Install MacroMax. On your own computer, this can be done in a shell without the exclamation mark.\n",
        "\n",
        "import macromax  # Load the main library\n",
        "from macromax.bound import LinearBound  # We will also use an absorbing boundary in the example below\n",
        "import numpy as np  # Load the standard NumPy library\n",
        "import matplotlib.pyplot as plt  # Load the standard plotting library"
      ],
      "metadata": {
        "id": "onpWGb1i9QbS"
      },
      "execution_count": null,
      "outputs": []
    },
    {
      "cell_type": "markdown",
      "source": [
        "## Define a scattering system, e.g. a glass cylinder.\n",
        "\n",
        "The scattering system can be specified as a 1D, 2D, or 3D array, where each element represents the refractive index on a regular Cartesian grid. Here, we define the refractive index in code; however, it could just as easily be loaded from an image file.\n",
        "\n",
        "MacroMax provides several tools to help define scattering systems. We will use:\n",
        "\n",
        "1.   **Grid(shape, step)** to represent the Cartesian coordinate system and sample locations. This enables us to work with physical units, e.g. in meters, instead of pixels.\n",
        "2.   **LinearBound(grid, thickness)** represents an absorbring boundary with an absorption coefficient that increases linearly towards the edge of the calculation volume. The default boundary condition is periodic.\n",
        "\n"
      ],
      "metadata": {
        "id": "WEIL9ODQAl53"
      }
    },
    {
      "cell_type": "code",
      "source": [
        "print(f'Using MacroMax version {macromax.__version__}.')\n",
        "\n",
        "wavelength = 500e-9  # everything is in meters\n",
        "\n",
        "# Define a Cartesian sample grid with a physical extent of 128/6 x 256/6 wavelengths\n",
        "grid = macromax.Grid(shape=[128, 256], step=wavelength/6)  # grid[0] = vertical pos., grid[1] = horizontal pos.\n",
        "# Define simple absorbing boundaries with extinction coefficient going from 0 to 0.1\n",
        "bound = LinearBound(grid, thickness=5 * wavelength, max_extinction_coefficient=0.1)\n",
        "\n",
        "# Define the scattering system\n",
        "sphere_r = 5 * wavelength\n",
        "sphere_offset_in_meters = 10 * wavelength\n",
        "refractive_index = 1 + 0.5 * (np.sqrt(grid[0] ** 2 + (grid[1] - sphere_offset_in_meters) ** 2) < sphere_r)  # Glass sphere on the right-hand side\n",
        "\n",
        "# Display the refractive index distribution [1, 1.5]\n",
        "im = plt.imshow(refractive_index)\n",
        "plt.colorbar(im)\n",
        "plt.show()"
      ],
      "metadata": {
        "id": "y7k0iQVz_t3g"
      },
      "execution_count": null,
      "outputs": []
    },
    {
      "cell_type": "markdown",
      "source": [
        "## Next, we specify a source of radiation and compute its field.\n",
        "\n",
        "In this example we define a scalar point source. More generally, any complex distribution on the Cartesian grid can be used, e.g. to model incident plane waves. Polarization can be specified by adding a dimension of length 3 on the right.\n",
        "\n",
        "The field produced by the source can be calculated by the **macromax.solve()** function. In this particular example, it is scalar."
      ],
      "metadata": {
        "id": "ZR0bguIjFeT3"
      }
    },
    {
      "cell_type": "code",
      "source": [
        "# Define the source on the same grid\n",
        "source = np.zeros(grid.shape)  # Our source is zero everywhere but in the next point\n",
        "source[grid.shape[0] // 2, grid.shape[1] // 4] = 1  # A plane wave source could be defined by a complex-valued distribution on one side of the calculation volume.\n",
        "\n",
        "# The actual calculation is done here!\n",
        "solution = macromax.solve(grid, vacuum_wavelength=wavelength, bound=bound,  # boundaries of 0 thickness are interpreted as periodic.\n",
        "                          source_distribution=source,  # Alternatively, a (vectorial) current density distribution can be specified.\n",
        "                          refractive_index=refractive_index)  # Alternatively, permittivity, permeability, etc. can be specified.\n",
        "\n",
        "field = solution.E[0]  # Only the first polarization component is meaningful for this scalar example.\n",
        "\n",
        "# Displaying the real part of the field\n",
        "fig, axs = plt.subplots(dpi=150)\n",
        "axs.imshow(field.real)\n",
        "axs.set_title(r\"$\\Re (E)$\")\n",
        "plt.show()"
      ],
      "metadata": {
        "id": "JGHkK9ptFd-g"
      },
      "execution_count": null,
      "outputs": []
    },
    {
      "cell_type": "markdown",
      "source": [
        "### Macromax also includes some tools to visualize complex fields in physical coordinates."
      ],
      "metadata": {
        "id": "hkyUMh1LDTGm"
      }
    },
    {
      "cell_type": "code",
      "source": [
        "from macromax.utils.display import complex2rgb, grid2extent\n",
        "\n",
        "fig, axs = plt.subplots(dpi=150)\n",
        "axs.imshow(complex2rgb(field, normalization=3), extent=grid2extent(grid) / 1e-6)  # Display the field amplitude as brightness and its phase as color hue.\n",
        "axs.set(xlabel=r'x [$\\mu m$]', ylabel=r'y [$\\mu m$]', title=r'scattered field')\n",
        "plt.show()"
      ],
      "metadata": {
        "id": "1S3lCfBBDYvt"
      },
      "execution_count": null,
      "outputs": []
    }
  ]
}